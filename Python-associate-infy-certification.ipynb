{
 "cells": [
  {
   "cell_type": "code",
   "execution_count": 3,
   "metadata": {},
   "outputs": [
    {
     "ename": "TypeError",
     "evalue": "'str' object does not support item assignment",
     "output_type": "error",
     "traceback": [
      "\u001b[1;31m---------------------------------------------------------------------------\u001b[0m",
      "\u001b[1;31mTypeError\u001b[0m                                 Traceback (most recent call last)",
      "\u001b[1;32m<ipython-input-3-404d7f3c1fe3>\u001b[0m in \u001b[0;36m<module>\u001b[1;34m\u001b[0m\n\u001b[0;32m      1\u001b[0m \u001b[0mx\u001b[0m\u001b[1;33m=\u001b[0m\u001b[1;34m\"infy\"\u001b[0m\u001b[1;33m\u001b[0m\u001b[1;33m\u001b[0m\u001b[0m\n\u001b[1;32m----> 2\u001b[1;33m \u001b[0mx\u001b[0m\u001b[1;33m[\u001b[0m\u001b[1;36m0\u001b[0m\u001b[1;33m]\u001b[0m\u001b[1;33m=\u001b[0m\u001b[1;34m'I'\u001b[0m\u001b[1;33m\u001b[0m\u001b[1;33m\u001b[0m\u001b[0m\n\u001b[0m",
      "\u001b[1;31mTypeError\u001b[0m: 'str' object does not support item assignment"
     ]
    }
   ],
   "source": [
    "x=\"infy\"\n",
    "x[0]='I'"
   ]
  },
  {
   "cell_type": "code",
   "execution_count": 4,
   "metadata": {},
   "outputs": [
    {
     "ename": "TypeError",
     "evalue": "'tuple' object does not support item assignment",
     "output_type": "error",
     "traceback": [
      "\u001b[1;31m---------------------------------------------------------------------------\u001b[0m",
      "\u001b[1;31mTypeError\u001b[0m                                 Traceback (most recent call last)",
      "\u001b[1;32m<ipython-input-4-3c0bad02f04e>\u001b[0m in \u001b[0;36m<module>\u001b[1;34m\u001b[0m\n\u001b[0;32m      1\u001b[0m \u001b[0my\u001b[0m\u001b[1;33m=\u001b[0m\u001b[1;33m(\u001b[0m\u001b[1;36m10\u001b[0m\u001b[1;33m,\u001b[0m\u001b[1;36m20\u001b[0m\u001b[1;33m,\u001b[0m\u001b[1;36m30\u001b[0m\u001b[1;33m)\u001b[0m\u001b[1;33m\u001b[0m\u001b[1;33m\u001b[0m\u001b[0m\n\u001b[1;32m----> 2\u001b[1;33m \u001b[0my\u001b[0m\u001b[1;33m[\u001b[0m\u001b[1;36m2\u001b[0m\u001b[1;33m]\u001b[0m\u001b[1;33m=\u001b[0m\u001b[1;36m300\u001b[0m\u001b[1;33m\u001b[0m\u001b[1;33m\u001b[0m\u001b[0m\n\u001b[0m",
      "\u001b[1;31mTypeError\u001b[0m: 'tuple' object does not support item assignment"
     ]
    }
   ],
   "source": [
    "y=(10,20,30)\n",
    "y[2]=300"
   ]
  },
  {
   "cell_type": "code",
   "execution_count": 5,
   "metadata": {},
   "outputs": [],
   "source": [
    "z=['Perl','Python','Php']\n",
    "z[2]=\"PHP\""
   ]
  },
  {
   "cell_type": "code",
   "execution_count": 6,
   "metadata": {},
   "outputs": [
    {
     "data": {
      "text/plain": [
       "[1, 2, 3, 1, 2, 3]"
      ]
     },
     "execution_count": 6,
     "metadata": {},
     "output_type": "execute_result"
    }
   ],
   "source": [
    "num=[1,2,3]\n",
    "num*2"
   ]
  },
  {
   "cell_type": "markdown",
   "metadata": {},
   "source": [
    "Assume that Ram has framed his regular expression like[Aa]bc for pattern matching which of the following matches with above metioned code"
   ]
  },
  {
   "cell_type": "markdown",
   "metadata": {},
   "source": [
    "Aabc only\n",
    "\n",
    "abc only\n",
    "\n",
    "Abc only\n",
    "\n",
    "Both abc and Abc  <------"
   ]
  },
  {
   "cell_type": "markdown",
   "metadata": {},
   "source": [
    "Which of these is not feature of python\n",
    "\n",
    "platform independent\n",
    "\n",
    "licensed <-----\n",
    "\n",
    "object oriented \n",
    "\n",
    "interpreted"
   ]
  },
  {
   "cell_type": "code",
   "execution_count": 7,
   "metadata": {},
   "outputs": [
    {
     "data": {
      "text/plain": [
       "[1, 123, 121, 12, 110, 11, 10]"
      ]
     },
     "execution_count": 7,
     "metadata": {},
     "output_type": "execute_result"
    }
   ],
   "source": [
    "num=[1,123,121,12,110,11,10]\n",
    "sorted(num)\n",
    "num"
   ]
  },
  {
   "cell_type": "code",
   "execution_count": 8,
   "metadata": {},
   "outputs": [
    {
     "name": "stdout",
     "output_type": "stream",
     "text": [
      "My Salary is 60000\n"
     ]
    }
   ],
   "source": [
    "Basicsalary=55000.56\n",
    "DA=5000.34\n",
    "print(\"My Salary is %d\" %(Basicsalary+DA))"
   ]
  },
  {
   "cell_type": "markdown",
   "metadata": {},
   "source": [
    " Which is below mentioned string funtion raises valuerror when search pattern not found\n",
    "    \n",
    "    find\n",
    "    \n",
    "    rfind\n",
    "    \n",
    "    index  <---\n",
    "    \n",
    "    rindex"
   ]
  },
  {
   "cell_type": "code",
   "execution_count": 7,
   "metadata": {},
   "outputs": [],
   "source": [
    "_=100"
   ]
  },
  {
   "cell_type": "markdown",
   "metadata": {},
   "source": [
    "#### Assume that Raghu has framed his reg ex like Indic?a for pattern matching which of the following matches with the patten mentioned above?\n",
    "\n",
    "Indic?a\n",
    "\n",
    "Indica only\n",
    "\n",
    "Indica,Indicca only\n",
    "\n",
    "both India and Indica <-----"
   ]
  },
  {
   "cell_type": "code",
   "execution_count": 9,
   "metadata": {},
   "outputs": [
    {
     "name": "stdout",
     "output_type": "stream",
     "text": [
      "3\n"
     ]
    }
   ],
   "source": [
    "print(3*1**3)"
   ]
  },
  {
   "cell_type": "code",
   "execution_count": 10,
   "metadata": {},
   "outputs": [
    {
     "name": "stdout",
     "output_type": "stream",
     "text": [
      "Pythonentered\n"
     ]
    }
   ],
   "source": [
    "var='Python'\n",
    "print(var +'entered')"
   ]
  },
  {
   "cell_type": "code",
   "execution_count": 11,
   "metadata": {},
   "outputs": [
    {
     "name": "stdout",
     "output_type": "stream",
     "text": [
      "Infosys31Limited\n"
     ]
    }
   ],
   "source": [
    "Company='Infosys'+\\\n",
    "        '31'+\\\n",
    "        'Limited'\n",
    "print(Company)"
   ]
  },
  {
   "cell_type": "code",
   "execution_count": 12,
   "metadata": {},
   "outputs": [
    {
     "name": "stdout",
     "output_type": "stream",
     "text": [
      "PythonPythonPythonPythonPythonPython\n"
     ]
    }
   ],
   "source": [
    "Tech='Python'\n",
    "print(Tech*len(Tech))"
   ]
  },
  {
   "cell_type": "markdown",
   "metadata": {},
   "source": [
    "Choose the right category according to the classifications made\n",
    "Jython,IronPython,Pydev,Django\n",
    "\n",
    "\n",
    "jython,IronPython,Django--Ptyhon Frameworks\n",
    "\n",
    "Pydev,Django--just python IDE's and not frameworks\n",
    "\n",
    "juthon, ironpython are flavours of Python\n",
    "\n",
    "Pydev,Jython,ironPython are flavours of Python"
   ]
  },
  {
   "cell_type": "code",
   "execution_count": null,
   "metadata": {},
   "outputs": [],
   "source": []
  },
  {
   "cell_type": "markdown",
   "metadata": {},
   "source": [
    "#### A function is defined for accepting 2 parameters  During invocation if ther is ony one argument passed what kind of expection it would raise\n",
    "\n",
    "ValueError\n",
    "\n",
    "AttributeError\n",
    "\n",
    "TypeError\n",
    "\n",
    "KeyError\n"
   ]
  },
  {
   "cell_type": "code",
   "execution_count": 13,
   "metadata": {},
   "outputs": [
    {
     "name": "stdout",
     "output_type": "stream",
     "text": [
      "876 3553\n"
     ]
    }
   ],
   "source": [
    "x=[40,876,3553,22]\n",
    "y=x[:]\n",
    "y.sort()\n",
    "print(y[2],x[2])"
   ]
  },
  {
   "cell_type": "code",
   "execution_count": 2,
   "metadata": {},
   "outputs": [
    {
     "data": {
      "text/plain": [
       "30"
      ]
     },
     "execution_count": 2,
     "metadata": {},
     "output_type": "execute_result"
    }
   ],
   "source": [
    "x=[10,20]\n",
    "z=x[:]\n",
    "y=x\n",
    "y[1]=30\n",
    "x[1]"
   ]
  },
  {
   "cell_type": "code",
   "execution_count": 4,
   "metadata": {},
   "outputs": [
    {
     "ename": "TypeError",
     "evalue": "unsupported operand type(s) for *: 'set' and 'int'",
     "output_type": "error",
     "traceback": [
      "\u001b[1;31m---------------------------------------------------------------------------\u001b[0m",
      "\u001b[1;31mTypeError\u001b[0m                                 Traceback (most recent call last)",
      "\u001b[1;32m<ipython-input-4-36d10139027a>\u001b[0m in \u001b[0;36m<module>\u001b[1;34m\u001b[0m\n\u001b[0;32m      1\u001b[0m \u001b[0ms1\u001b[0m\u001b[1;33m=\u001b[0m\u001b[1;33m{\u001b[0m\u001b[1;36m1\u001b[0m\u001b[1;33m,\u001b[0m\u001b[1;36m2\u001b[0m\u001b[1;33m}\u001b[0m\u001b[1;33m\u001b[0m\u001b[1;33m\u001b[0m\u001b[0m\n\u001b[1;32m----> 2\u001b[1;33m \u001b[0ms1\u001b[0m\u001b[1;33m*\u001b[0m\u001b[1;36m2\u001b[0m\u001b[1;33m\u001b[0m\u001b[1;33m\u001b[0m\u001b[0m\n\u001b[0m",
      "\u001b[1;31mTypeError\u001b[0m: unsupported operand type(s) for *: 'set' and 'int'"
     ]
    }
   ],
   "source": [
    "s1={1,2}\n",
    "s1*2"
   ]
  },
  {
   "cell_type": "markdown",
   "metadata": {},
   "source": [
    "#### You are asked to replace a pattern with a differnt pattern.Which of these ways of parameter passing is correct\n",
    "\n",
    "re.search(extraction pattern,substitution, source string, max substitution)\n",
    "\n",
    "re.findall(substitution, extration pattern, source string, max substitution)\n",
    "\n",
    "re.sub(extraction pattern, substitution, source string, max substitution)\n",
    "\n",
    "re.sub(substitution,extration pattern, source string, max substitution)"
   ]
  },
  {
   "cell_type": "code",
   "execution_count": 14,
   "metadata": {},
   "outputs": [
    {
     "name": "stdout",
     "output_type": "stream",
     "text": [
      "False\n"
     ]
    }
   ],
   "source": [
    "Dic={'2323':\"Ram\",\"4321\":\"Shan\",\"99989\":\"Romy\"}\n",
    "print(4321 in Dic)"
   ]
  },
  {
   "cell_type": "code",
   "execution_count": 15,
   "metadata": {},
   "outputs": [
    {
     "name": "stdout",
     "output_type": "stream",
     "text": [
      "True\n"
     ]
    }
   ],
   "source": [
    "Dic={'2323':\"Ram\",\"4321\":\"Shan\",\"99989\":\"Romy\"}\n",
    "print(\"4321\" in Dic)"
   ]
  },
  {
   "cell_type": "code",
   "execution_count": 16,
   "metadata": {},
   "outputs": [
    {
     "name": "stdout",
     "output_type": "stream",
     "text": [
      "Mal*avikaa\n"
     ]
    }
   ],
   "source": [
    "import re\n",
    "a=\"Malaaavikaa\"\n",
    "print(re.sub('a{2}','*',a,1))"
   ]
  },
  {
   "cell_type": "code",
   "execution_count": null,
   "metadata": {},
   "outputs": [],
   "source": []
  },
  {
   "cell_type": "code",
   "execution_count": 18,
   "metadata": {},
   "outputs": [
    {
     "name": "stdout",
     "output_type": "stream",
     "text": [
      "3\n"
     ]
    }
   ],
   "source": [
    "def add(num1=0, num2=0):\n",
    "    return (num1+num2)\n",
    "print(add(3)) "
   ]
  },
  {
   "cell_type": "code",
   "execution_count": 19,
   "metadata": {},
   "outputs": [
    {
     "name": "stdout",
     "output_type": "stream",
     "text": [
      "['The event starts in Jan']\n"
     ]
    }
   ],
   "source": [
    "import re\n",
    "stmt1=\"The event starts in Jan\"\n",
    "print(re.split('\"',stmt1))"
   ]
  },
  {
   "cell_type": "code",
   "execution_count": 20,
   "metadata": {},
   "outputs": [
    {
     "name": "stdout",
     "output_type": "stream",
     "text": [
      "n\n",
      "y\n"
     ]
    }
   ],
   "source": [
    "lis=[1,3,5,7]\n",
    "for a in (lis[::2]):\n",
    "    str=\"Infosys\"\n",
    "    print(str[a])"
   ]
  },
  {
   "cell_type": "code",
   "execution_count": 21,
   "metadata": {},
   "outputs": [
    {
     "name": "stdout",
     "output_type": "stream",
     "text": [
      "a a a a a a "
     ]
    }
   ],
   "source": [
    "x=\"abcdef\"\n",
    "i=\"a\"\n",
    "while i in x:\n",
    "    x=x[:-1]\n",
    "    print(i,end=\" \")"
   ]
  },
  {
   "cell_type": "code",
   "execution_count": 22,
   "metadata": {},
   "outputs": [
    {
     "name": "stdout",
     "output_type": "stream",
     "text": [
      "I fetched  10\n",
      "I fetched  20\n",
      "I fetched  string\n",
      "I fetched  30\n"
     ]
    }
   ],
   "source": [
    "for cnt in 10,20,'string',30:\n",
    "    print(\"I fetched \",cnt)"
   ]
  },
  {
   "cell_type": "code",
   "execution_count": 23,
   "metadata": {},
   "outputs": [
    {
     "name": "stdout",
     "output_type": "stream",
     "text": [
      "Error\n"
     ]
    }
   ],
   "source": [
    "try:\n",
    "    print(10*(1/0))\n",
    "    print(203/0)\n",
    "    print(var*33)\n",
    "except(ZeroDivisionError,NameError):\n",
    "    print('Error')"
   ]
  },
  {
   "cell_type": "code",
   "execution_count": 28,
   "metadata": {},
   "outputs": [
    {
     "name": "stdout",
     "output_type": "stream",
     "text": [
      "4\n"
     ]
    }
   ],
   "source": [
    "lang_add={}\n",
    "\n",
    "def addnew(lang):\n",
    "    if lang in lang_add:\n",
    "        lang_add[lang]+=1\n",
    "    else:\n",
    "        lang_add[lang]=1\n",
    "\n",
    "addnew('PHP')\n",
    "addnew('Python')\n",
    "addnew('Php')\n",
    "addnew('Perl')\n",
    "\n",
    "print(len(lang_add))"
   ]
  },
  {
   "cell_type": "code",
   "execution_count": 26,
   "metadata": {},
   "outputs": [
    {
     "name": "stdout",
     "output_type": "stream",
     "text": [
      "['06', '1982']\n"
     ]
    }
   ],
   "source": [
    "import re\n",
    "name='Ram_06at1982@gmail.com'\n",
    "print(re.findall('[\\d]+',name))"
   ]
  },
  {
   "cell_type": "code",
   "execution_count": 30,
   "metadata": {},
   "outputs": [
    {
     "name": "stdout",
     "output_type": "stream",
     "text": [
      "Adventurous Journey During travelling\n",
      "['Adventurous Journey During travelling']\n"
     ]
    }
   ],
   "source": [
    "a=\"Adventurous Journey During travelling\"\n",
    "b=a.splitlines(False)\n",
    "print(a.replace(\" \",\" \",3)) #Line1\n",
    "print (b)#Line2"
   ]
  },
  {
   "cell_type": "code",
   "execution_count": 31,
   "metadata": {},
   "outputs": [
    {
     "name": "stdout",
     "output_type": "stream",
     "text": [
      "12\n"
     ]
    }
   ],
   "source": [
    "names1=['Amit','Ben','Charlie','Damn']\n",
    "names2=names1\n",
    "names3=names1[:]\n",
    "names2[0]='Stefan'\n",
    "names3[1]='John'\n",
    "sum=0\n",
    "\n",
    "for ls in (names1,names2,names3):\n",
    "    if ls[0]=='Stefan':\n",
    "        sum+=1\n",
    "    if ls[1]==\"John\":\n",
    "        sum+=10\n",
    "print(sum)\n",
    "    "
   ]
  },
  {
   "cell_type": "code",
   "execution_count": 32,
   "metadata": {},
   "outputs": [
    {
     "ename": "AttributeError",
     "evalue": "'Child' object has no attribute 'n1'",
     "output_type": "error",
     "traceback": [
      "\u001b[1;31m---------------------------------------------------------------------------\u001b[0m",
      "\u001b[1;31mAttributeError\u001b[0m                            Traceback (most recent call last)",
      "\u001b[1;32m<ipython-input-32-df349670324e>\u001b[0m in \u001b[0;36m<module>\u001b[1;34m\u001b[0m\n\u001b[0;32m      7\u001b[0m \u001b[1;33m\u001b[0m\u001b[0m\n\u001b[0;32m      8\u001b[0m \u001b[0moC\u001b[0m\u001b[1;33m=\u001b[0m\u001b[0mChild\u001b[0m\u001b[1;33m(\u001b[0m\u001b[1;36m12\u001b[0m\u001b[1;33m)\u001b[0m\u001b[1;33m\u001b[0m\u001b[1;33m\u001b[0m\u001b[0m\n\u001b[1;32m----> 9\u001b[1;33m \u001b[0mprint\u001b[0m\u001b[1;33m(\u001b[0m\u001b[0moC\u001b[0m\u001b[1;33m.\u001b[0m\u001b[0mn1\u001b[0m\u001b[1;33m,\u001b[0m\u001b[0moC\u001b[0m\u001b[1;33m.\u001b[0m\u001b[0mn2\u001b[0m\u001b[1;33m)\u001b[0m\u001b[1;33m\u001b[0m\u001b[1;33m\u001b[0m\u001b[0m\n\u001b[0m",
      "\u001b[1;31mAttributeError\u001b[0m: 'Child' object has no attribute 'n1'"
     ]
    }
   ],
   "source": [
    "class Base:\n",
    "    def __init__(self,num):\n",
    "        self.n1=num\n",
    "class Child(Base):\n",
    "    def __init__(self,num):\n",
    "        self.n2=num\n",
    "\n",
    "oC=Child(12)\n",
    "print(oC.n1,oC.n2)"
   ]
  },
  {
   "cell_type": "code",
   "execution_count": 34,
   "metadata": {},
   "outputs": [
    {
     "name": "stdout",
     "output_type": "stream",
     "text": [
      "P C\n",
      "P C\n"
     ]
    }
   ],
   "source": [
    "class P:\n",
    "    def f(self):\n",
    "        return self.g()\n",
    "    def g(self):\n",
    "        return 'P'\n",
    "class C(P):\n",
    "    def g(self):\n",
    "        return 'C'\n",
    "\n",
    "p=P()\n",
    "c=C()\n",
    "print(p.f(),c.f())\n",
    "print(p.g(),c.g())"
   ]
  },
  {
   "cell_type": "code",
   "execution_count": 35,
   "metadata": {},
   "outputs": [
    {
     "name": "stdout",
     "output_type": "stream",
     "text": [
      "51\n"
     ]
    }
   ],
   "source": [
    "class Person:\n",
    "    def __init__(self,id):\n",
    "        self.id=id\n",
    "obama=Person(100)\n",
    "obama.age=49\n",
    "print(obama.age+2)"
   ]
  },
  {
   "cell_type": "markdown",
   "metadata": {},
   "source": [
    "#### Which of the following statemen in python is True\n",
    "\n",
    "A class can be considered a template or blueprint that can be used to create objects\n",
    "\n",
    "to create an object it is important to look at the constructor method __init__() to find out the argument that are required.\n"
   ]
  },
  {
   "cell_type": "code",
   "execution_count": 36,
   "metadata": {},
   "outputs": [
    {
     "name": "stdout",
     "output_type": "stream",
     "text": [
      "Harry\n",
      "Harry\n"
     ]
    }
   ],
   "source": [
    "class NumTest:\n",
    "    def __init__(self):\n",
    "        self.val=1\n",
    "    def Test(self):\n",
    "        if self.val==1:\n",
    "            print('Harry')\n",
    "            self.var=2\n",
    "        else:\n",
    "            print('met')\n",
    "class Assign(NumTest):\n",
    "    def __init__(self):\n",
    "        NumTest.__init__(self)\n",
    "        self.data=\"Sally!\"\n",
    "    def Disp(self):\n",
    "        print(self.data)\n",
    "oN=NumTest()\n",
    "oN.Test()\n",
    "oP=Assign()\n",
    "oP.Test()"
   ]
  },
  {
   "cell_type": "code",
   "execution_count": 12,
   "metadata": {},
   "outputs": [
    {
     "name": "stdout",
     "output_type": "stream",
     "text": [
      "Hi\n",
      "Bye\n",
      "555\n"
     ]
    }
   ],
   "source": [
    "class Test:\n",
    "    def __init__(self):\n",
    "        self.bool=True\n",
    "    def prnt(self):\n",
    "        if self.bool:\n",
    "            print('Hi')\n",
    "            self.bool=False\n",
    "        else:\n",
    "            print('Bye')\n",
    "class Alpha(Test):\n",
    "    def __init__(self):\n",
    "        self.val='555'\n",
    "    def disp(self):\n",
    "        print(self.val)\n",
    "\n",
    "t1=Test()\n",
    "t1.prnt()\n",
    "t1.prnt()\n",
    "\n",
    "t2=Alpha()\n",
    "t2.disp()"
   ]
  },
  {
   "cell_type": "code",
   "execution_count": 38,
   "metadata": {},
   "outputs": [
    {
     "ename": "SyntaxError",
     "evalue": "invalid syntax (<ipython-input-38-e71a434bc907>, line 1)",
     "output_type": "error",
     "traceback": [
      "\u001b[1;36m  File \u001b[1;32m\"<ipython-input-38-e71a434bc907>\"\u001b[1;36m, line \u001b[1;32m1\u001b[0m\n\u001b[1;33m    Class Identity:\u001b[0m\n\u001b[1;37m                 ^\u001b[0m\n\u001b[1;31mSyntaxError\u001b[0m\u001b[1;31m:\u001b[0m invalid syntax\n"
     ]
    }
   ],
   "source": [
    "Class Identity:\n",
    "    def __init__(self,val):\n",
    "        self.val=val\n",
    "        id=999\n",
    "id=Identity(101)\n",
    "print(id.val)"
   ]
  },
  {
   "cell_type": "code",
   "execution_count": 44,
   "metadata": {},
   "outputs": [
    {
     "name": "stdout",
     "output_type": "stream",
     "text": [
      "30\n",
      "30\n"
     ]
    }
   ],
   "source": [
    "class Demo:\n",
    "    def __init__(self,num1,num2):\n",
    "        self.val=num1+num2\n",
    "class Demo1(Demo):\n",
    "    def __init__(self,num1,num2):\n",
    "        self.val=num1+num2\n",
    "        super().__init__(num1,num2)\n",
    "obj1=Demo1(20,10)\n",
    "obj2=Demo(20,10)\n",
    "print(obj1.val)\n",
    "print(obj2.val)"
   ]
  },
  {
   "cell_type": "code",
   "execution_count": 45,
   "metadata": {},
   "outputs": [
    {
     "ename": "AttributeError",
     "evalue": "type object 'Test' has no attribute '__sum'",
     "output_type": "error",
     "traceback": [
      "\u001b[1;31m---------------------------------------------------------------------------\u001b[0m",
      "\u001b[1;31mAttributeError\u001b[0m                            Traceback (most recent call last)",
      "\u001b[1;32m<ipython-input-45-260864908428>\u001b[0m in \u001b[0;36m<module>\u001b[1;34m\u001b[0m\n\u001b[0;32m      4\u001b[0m         \u001b[0mself\u001b[0m\u001b[1;33m.\u001b[0m\u001b[0m__sum\u001b[0m\u001b[1;33m+=\u001b[0m\u001b[1;36m1\u001b[0m\u001b[1;33m\u001b[0m\u001b[1;33m\u001b[0m\u001b[0m\n\u001b[0;32m      5\u001b[0m         \u001b[0mprint\u001b[0m\u001b[1;33m(\u001b[0m\u001b[0mself\u001b[0m\u001b[1;33m.\u001b[0m\u001b[0m__sum\u001b[0m\u001b[1;33m)\u001b[0m\u001b[1;33m\u001b[0m\u001b[1;33m\u001b[0m\u001b[0m\n\u001b[1;32m----> 6\u001b[1;33m \u001b[0mprint\u001b[0m\u001b[1;33m(\u001b[0m\u001b[0mTest\u001b[0m\u001b[1;33m.\u001b[0m\u001b[0m__sum\u001b[0m\u001b[1;33m)\u001b[0m\u001b[1;33m\u001b[0m\u001b[1;33m\u001b[0m\u001b[0m\n\u001b[0m",
      "\u001b[1;31mAttributeError\u001b[0m: type object 'Test' has no attribute '__sum'"
     ]
    }
   ],
   "source": [
    "class Test:\n",
    "    __sum=0\n",
    "    def disp(self):\n",
    "        self.__sum+=1\n",
    "        print(self.__sum)\n",
    "print(Test.__sum)"
   ]
  },
  {
   "cell_type": "code",
   "execution_count": 13,
   "metadata": {},
   "outputs": [
    {
     "name": "stdout",
     "output_type": "stream",
     "text": [
      "Child2 disp\n"
     ]
    }
   ],
   "source": [
    "class Parent1:\n",
    "    def display(self):\n",
    "        print('Parent1')\n",
    "\n",
    "class Parent2:\n",
    "    def display(self):\n",
    "        print('Parent2')\n",
    "    def disp(self):\n",
    "        print('Parent2 disp')\n",
    "        \n",
    "class Child1(Parent1,Parent2):\n",
    "    pass\n",
    "\n",
    "class Child2(Parent1,Parent2):\n",
    "    def disp(self):\n",
    "        print('Child2 disp')\n",
    "        \n",
    "class GrandChild(Child1,Child2):\n",
    "    pass\n",
    "\n",
    "gc=GrandChild()\n",
    "Child2.disp(gc)\n",
    "# gc.display()\n",
    "# gc.disp()"
   ]
  },
  {
   "cell_type": "code",
   "execution_count": 1,
   "metadata": {},
   "outputs": [
    {
     "name": "stdout",
     "output_type": "stream",
     "text": [
      "[10, 20, 30, 40, 50]\n"
     ]
    }
   ],
   "source": [
    "lis=[10,20,30,40,50,60,70,80]\n",
    "lis.pop(6)\n",
    "print(lis[:-2])"
   ]
  },
  {
   "cell_type": "code",
   "execution_count": 3,
   "metadata": {},
   "outputs": [
    {
     "data": {
      "text/plain": [
       "24"
      ]
     },
     "execution_count": 3,
     "metadata": {},
     "output_type": "execute_result"
    }
   ],
   "source": [
    "a=b=c=2*4*3*1\n",
    "a"
   ]
  },
  {
   "cell_type": "code",
   "execution_count": 4,
   "metadata": {},
   "outputs": [
    {
     "data": {
      "text/plain": [
       "24"
      ]
     },
     "execution_count": 4,
     "metadata": {},
     "output_type": "execute_result"
    }
   ],
   "source": [
    "b"
   ]
  },
  {
   "cell_type": "code",
   "execution_count": 5,
   "metadata": {},
   "outputs": [
    {
     "data": {
      "text/plain": [
       "24"
      ]
     },
     "execution_count": 5,
     "metadata": {},
     "output_type": "execute_result"
    }
   ],
   "source": [
    "c"
   ]
  },
  {
   "cell_type": "code",
   "execution_count": 6,
   "metadata": {},
   "outputs": [
    {
     "ename": "TypeError",
     "evalue": "unsupported operand type(s) for *: 'set' and 'int'",
     "output_type": "error",
     "traceback": [
      "\u001b[1;31m---------------------------------------------------------------------------\u001b[0m",
      "\u001b[1;31mTypeError\u001b[0m                                 Traceback (most recent call last)",
      "\u001b[1;32m<ipython-input-6-90ee0ce0b307>\u001b[0m in \u001b[0;36m<module>\u001b[1;34m\u001b[0m\n\u001b[0;32m      1\u001b[0m \u001b[0mnum\u001b[0m\u001b[1;33m=\u001b[0m\u001b[1;33m{\u001b[0m\u001b[1;36m5\u001b[0m\u001b[1;33m,\u001b[0m\u001b[1;36m6\u001b[0m\u001b[1;33m,\u001b[0m\u001b[1;36m7\u001b[0m\u001b[1;33m}\u001b[0m\u001b[1;33m\u001b[0m\u001b[1;33m\u001b[0m\u001b[0m\n\u001b[1;32m----> 2\u001b[1;33m \u001b[0mnum\u001b[0m\u001b[1;33m*\u001b[0m\u001b[1;36m2\u001b[0m\u001b[1;33m\u001b[0m\u001b[1;33m\u001b[0m\u001b[0m\n\u001b[0m",
      "\u001b[1;31mTypeError\u001b[0m: unsupported operand type(s) for *: 'set' and 'int'"
     ]
    }
   ],
   "source": [
    "num={5,6,7}\n",
    "num*2"
   ]
  },
  {
   "cell_type": "code",
   "execution_count": 7,
   "metadata": {},
   "outputs": [
    {
     "ename": "SyntaxError",
     "evalue": "invalid syntax (<ipython-input-7-5dc9356c8e40>, line 1)",
     "output_type": "error",
     "traceback": [
      "\u001b[1;36m  File \u001b[1;32m\"<ipython-input-7-5dc9356c8e40>\"\u001b[1;36m, line \u001b[1;32m1\u001b[0m\n\u001b[1;33m    print(\"Stefan Salvatore\",[5:])\u001b[0m\n\u001b[1;37m                               ^\u001b[0m\n\u001b[1;31mSyntaxError\u001b[0m\u001b[1;31m:\u001b[0m invalid syntax\n"
     ]
    }
   ],
   "source": [
    "print(\"Stefan Salvatore\",[5:])"
   ]
  },
  {
   "cell_type": "code",
   "execution_count": 10,
   "metadata": {},
   "outputs": [
    {
     "name": "stdout",
     "output_type": "stream",
     "text": [
      "e\n"
     ]
    }
   ],
   "source": [
    "name=[\"Stefan\",\"Damon\",\"Elena\",\"Katherine\"]\n",
    "print(name[-2][2])"
   ]
  },
  {
   "cell_type": "code",
   "execution_count": 9,
   "metadata": {},
   "outputs": [
    {
     "name": "stdout",
     "output_type": "stream",
     "text": [
      "81\n"
     ]
    }
   ],
   "source": [
    "def power(x,y):\n",
    "    r=1\n",
    "    for i in range(y):\n",
    "        r=r*x\n",
    "    return r\n",
    "print(power(3,4))"
   ]
  },
  {
   "cell_type": "code",
   "execution_count": 19,
   "metadata": {},
   "outputs": [
    {
     "name": "stdout",
     "output_type": "stream",
     "text": [
      "Hello in Elif 1\n",
      "over\n"
     ]
    }
   ],
   "source": [
    "var=0\n",
    "if var:\n",
    "    print(\"I m in if\")\n",
    "elif var==0:\n",
    "    print(\"Hello in Elif 1\")\n",
    "elif var==0:\n",
    "    print(\"hello in elif 2\")\n",
    "else:\n",
    "    print(\"in else\")\n",
    "print(\"over\")"
   ]
  },
  {
   "cell_type": "code",
   "execution_count": 20,
   "metadata": {},
   "outputs": [
    {
     "name": "stdout",
     "output_type": "stream",
     "text": [
      "4\n",
      "3\n",
      "2\n",
      "1\n",
      "0\n"
     ]
    }
   ],
   "source": [
    "num=5\n",
    "while(--num):\n",
    "    num=num-1\n",
    "    print(num)"
   ]
  },
  {
   "cell_type": "code",
   "execution_count": 21,
   "metadata": {},
   "outputs": [
    {
     "name": "stdout",
     "output_type": "stream",
     "text": [
      "I jump a great jump today\n"
     ]
    }
   ],
   "source": [
    "import re\n",
    "message=\"I thought a great thought today\"\n",
    "print(re.sub(\"thought\",'jump',message))"
   ]
  },
  {
   "cell_type": "code",
   "execution_count": 22,
   "metadata": {},
   "outputs": [
    {
     "data": {
      "text/plain": [
       "range(4, 11, 2)"
      ]
     },
     "execution_count": 22,
     "metadata": {},
     "output_type": "execute_result"
    }
   ],
   "source": [
    "lis=[1,3,5,7,9,11,13,17,19,23,29]\n",
    "op=range(4,len(lis),2)\n",
    "op"
   ]
  },
  {
   "cell_type": "code",
   "execution_count": 22,
   "metadata": {},
   "outputs": [
    {
     "data": {
      "text/plain": [
       "13"
      ]
     },
     "execution_count": 22,
     "metadata": {},
     "output_type": "execute_result"
    }
   ],
   "source": [
    "import re\n",
    "sum=0\n",
    "pattern ='py'\n",
    "if re.match(pattern,'python.txt'):\n",
    "    sum+=1\n",
    "if re.match(pattern,'text.py'):\n",
    "    sum+=2\n",
    "if re.search(pattern,'.herepyfile'):\n",
    "    sum+=4\n",
    "if re.search(pattern,'numpy'):\n",
    "    sum+=8\n",
    "\n",
    "sum"
   ]
  },
  {
   "cell_type": "code",
   "execution_count": 26,
   "metadata": {},
   "outputs": [
    {
     "name": "stdout",
     "output_type": "stream",
     "text": [
      "1\n",
      "2\n"
     ]
    }
   ],
   "source": [
    "class A():\n",
    "    def __init__(self,a={}):\n",
    "        if not(\"1\" in a):\n",
    "            a[\"1\"]=1\n",
    "        else:\n",
    "            a['1']+=1\n",
    "        print(a['1'])\n",
    "for i in range(2):\n",
    "    a=A()"
   ]
  },
  {
   "cell_type": "code",
   "execution_count": 27,
   "metadata": {},
   "outputs": [
    {
     "name": "stdout",
     "output_type": "stream",
     "text": [
      "mammal\n",
      "birds\n"
     ]
    }
   ],
   "source": [
    "class cow:\n",
    "    species=\"mammal\"\n",
    "    def __init__(self,name,age):\n",
    "        self.name=name\n",
    "        self.age=age\n",
    "        self.species='birds'\n",
    "mucy=cow('mucy',3)\n",
    "\n",
    "print(cow.species)\n",
    "print(mucy.species)"
   ]
  },
  {
   "cell_type": "code",
   "execution_count": 28,
   "metadata": {},
   "outputs": [
    {
     "name": "stdout",
     "output_type": "stream",
     "text": [
      "alpha test\n",
      "alpha test\n"
     ]
    }
   ],
   "source": [
    "class parent:\n",
    "    def test(self):\n",
    "        print(\"alpha test\")\n",
    "class child(parent):\n",
    "    pass\n",
    "\n",
    "obj=parent()\n",
    "obj2=child()\n",
    "obj.test()\n",
    "obj2.test()"
   ]
  },
  {
   "cell_type": "code",
   "execution_count": 12,
   "metadata": {},
   "outputs": [
    {
     "name": "stdout",
     "output_type": "stream",
     "text": [
      "1\n",
      "2\n",
      "2\n"
     ]
    }
   ],
   "source": [
    "class test:\n",
    "    __sum=0\n",
    "    def disp(self):\n",
    "        self.__sum+=1\n",
    "        print(self.__sum)\n",
    "\n",
    "ob1=test()\n",
    "ob1.disp()\n",
    "ob1.disp()\n",
    "print(ob1._test__sum)"
   ]
  },
  {
   "cell_type": "code",
   "execution_count": 2,
   "metadata": {},
   "outputs": [
    {
     "ename": "NameError",
     "evalue": "name 'delta' is not defined",
     "output_type": "error",
     "traceback": [
      "\u001b[1;31m---------------------------------------------------------------------------\u001b[0m",
      "\u001b[1;31mNameError\u001b[0m                                 Traceback (most recent call last)",
      "\u001b[1;32m<ipython-input-2-62ca0060e19c>\u001b[0m in \u001b[0;36m<module>\u001b[1;34m\u001b[0m\n\u001b[1;32m----> 1\u001b[1;33m \u001b[0mprint\u001b[0m\u001b[1;33m(\u001b[0m\u001b[1;36m50\u001b[0m\u001b[1;33m+\u001b[0m\u001b[0mdelta\u001b[0m\u001b[1;33m*\u001b[0m\u001b[1;36m10\u001b[0m\u001b[1;33m)\u001b[0m\u001b[1;33m\u001b[0m\u001b[1;33m\u001b[0m\u001b[0m\n\u001b[0m",
      "\u001b[1;31mNameError\u001b[0m: name 'delta' is not defined"
     ]
    }
   ],
   "source": [
    "print(50+delta*10)"
   ]
  },
  {
   "cell_type": "code",
   "execution_count": 3,
   "metadata": {},
   "outputs": [
    {
     "ename": "SyntaxError",
     "evalue": "invalid token (<ipython-input-3-515d5a2da16d>, line 1)",
     "output_type": "error",
     "traceback": [
      "\u001b[1;36m  File \u001b[1;32m\"<ipython-input-3-515d5a2da16d>\"\u001b[1;36m, line \u001b[1;32m1\u001b[0m\n\u001b[1;33m    var=02\u001b[0m\n\u001b[1;37m         ^\u001b[0m\n\u001b[1;31mSyntaxError\u001b[0m\u001b[1;31m:\u001b[0m invalid token\n"
     ]
    }
   ],
   "source": [
    "var=02\n",
    "var+20"
   ]
  },
  {
   "cell_type": "code",
   "execution_count": 10,
   "metadata": {},
   "outputs": [
    {
     "name": "stdout",
     "output_type": "stream",
     "text": [
      "ASSaSsination\n"
     ]
    }
   ],
   "source": [
    "xyz=('apple','applets','app')\n",
    "abc=\"Assassination\"\n",
    "sub='s'\n",
    "print(abc.replace('s','S',len(min(xyz))))"
   ]
  },
  {
   "cell_type": "code",
   "execution_count": 8,
   "metadata": {},
   "outputs": [
    {
     "name": "stdout",
     "output_type": "stream",
     "text": [
      "3\n"
     ]
    }
   ],
   "source": [
    "xyz=('apple','applets','app','ap')\n",
    "abc='Semesters'\n",
    "sub='e'\n",
    "print(abc.find(sub,len(min(xyz)),len(max(xyz))))"
   ]
  },
  {
   "cell_type": "code",
   "execution_count": 11,
   "metadata": {},
   "outputs": [
    {
     "name": "stdout",
     "output_type": "stream",
     "text": [
      "10\n"
     ]
    }
   ],
   "source": [
    "class MultiplierClass:\n",
    "    def __init__(self,factor):\n",
    "        self.factor=factor\n",
    "    def multiplier(self,argument):\n",
    "        return argument*self.factor\n",
    "    \n",
    "def generate_multiplier(factor):\n",
    "    return MultiplierClass(factor).multiplier\n",
    "\n",
    "twice=generate_multiplier(2)\n",
    "print(twice(5))"
   ]
  },
  {
   "cell_type": "code",
   "execution_count": 8,
   "metadata": {},
   "outputs": [
    {
     "name": "stdout",
     "output_type": "stream",
     "text": [
      "1800-140-2400\n",
      "1800-140-2401\n"
     ]
    }
   ],
   "source": [
    "import re\n",
    "\n",
    "my_text='''\n",
    "India in my country and in india there are 28 states. In India indica is car which widely used .\n",
    "its indica indicca\n",
    "\n",
    "indi a\n",
    "indi_a\n",
    "indi-a\n",
    "indi@a\n",
    "\n",
    "Abc\n",
    "abc\n",
    "AAbc\n",
    "ABC\n",
    "\n",
    "1800-140-2400\n",
    "1800-140-2401\n",
    "\n",
    "'''\n",
    "pattern=re.compile(r'\\d{3,4}-\\d{3}-\\d{4}')\n",
    "# pattern=re.compile(r'indic?a')\n",
    "# pattern=re.compile(r'[Aa]bc')\n",
    "matches =pattern.findall(my_text)\n",
    "for match in matches:\n",
    "    print (match)\n"
   ]
  },
  {
   "cell_type": "code",
   "execution_count": 24,
   "metadata": {},
   "outputs": [
    {
     "data": {
      "text/plain": [
       "'\\nCanada in my country and in india there are 28 states. In Canada indica is car which widely used .\\nits indica indicca\\n'"
      ]
     },
     "execution_count": 24,
     "metadata": {},
     "output_type": "execute_result"
    }
   ],
   "source": [
    "my_text='''\n",
    "India in my country and in india there are 28 states. In India indica is car which widely used .\n",
    "its indica indicca\n",
    "'''\n",
    "new_text=my_text.replace(\"India\",'Canada')\n",
    "new_text"
   ]
  },
  {
   "cell_type": "code",
   "execution_count": null,
   "metadata": {},
   "outputs": [],
   "source": []
  }
 ],
 "metadata": {
  "kernelspec": {
   "display_name": "Python 3",
   "language": "python",
   "name": "python3"
  },
  "language_info": {
   "codemirror_mode": {
    "name": "ipython",
    "version": 3
   },
   "file_extension": ".py",
   "mimetype": "text/x-python",
   "name": "python",
   "nbconvert_exporter": "python",
   "pygments_lexer": "ipython3",
   "version": "3.7.6"
  }
 },
 "nbformat": 4,
 "nbformat_minor": 4
}
